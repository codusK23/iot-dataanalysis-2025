{
 "cells": [
  {
   "cell_type": "markdown",
   "id": "52a9f303",
   "metadata": {},
   "source": [
    "## 딥러닝\n",
    "\n",
    "### 심층신경망"
   ]
  },
  {
   "cell_type": "code",
   "execution_count": 1,
   "id": "223c6a57",
   "metadata": {},
   "outputs": [
    {
     "name": "stdout",
     "output_type": "stream",
     "text": [
      "WARNING:tensorflow:From c:\\Source\\iot-dataanalysis-2025\\mlvenv\\Lib\\site-packages\\keras\\src\\losses.py:2976: The name tf.losses.sparse_softmax_cross_entropy is deprecated. Please use tf.compat.v1.losses.sparse_softmax_cross_entropy instead.\n",
      "\n"
     ]
    }
   ],
   "source": [
    "# 모듈 로드\n",
    "import tensorflow as tf\n",
    "from tensorflow import keras\n",
    "import numpy as np"
   ]
  },
  {
   "cell_type": "code",
   "execution_count": 2,
   "id": "0b515998",
   "metadata": {},
   "outputs": [],
   "source": [
    "(train_input, train_target), (test_input, test_target) = keras.datasets.fashion_mnist.load_data()"
   ]
  },
  {
   "cell_type": "markdown",
   "id": "5a644106",
   "metadata": {},
   "source": [
    "- 이미 이전장에서 다운로드 했기 때문에 다시 다운로드 하지 않음"
   ]
  },
  {
   "cell_type": "code",
   "execution_count": 3,
   "id": "d572d3b7",
   "metadata": {},
   "outputs": [],
   "source": [
    "# 훈련세트, 검정세트 분리\n",
    "from sklearn.model_selection import train_test_split\n",
    "from sklearn.preprocessing import StandardScaler"
   ]
  },
  {
   "cell_type": "code",
   "execution_count": 4,
   "id": "d47388d4",
   "metadata": {},
   "outputs": [],
   "source": [
    "train_input = train_input.reshape(-1, 28*28)\n",
    "test_input = test_input.reshape(-1, 28*28)"
   ]
  },
  {
   "cell_type": "code",
   "execution_count": 5,
   "id": "40eb999c",
   "metadata": {},
   "outputs": [],
   "source": [
    "# 스케일링\n",
    "scaler = StandardScaler()\n",
    "train_scaled  = scaler.fit_transform(train_input.astype(np.float64))\n",
    "test_scaled  = scaler.transform(test_input.astype(np.float64))"
   ]
  },
  {
   "cell_type": "code",
   "execution_count": 6,
   "id": "942c7d50",
   "metadata": {},
   "outputs": [],
   "source": [
    "# 훈련세트, 검증세트 분리\n",
    "train_scaled, val_scaled, train_target, val_target = train_test_split(\n",
    "    train_scaled, train_target, test_size=0.2, random_state=42\n",
    ")"
   ]
  },
  {
   "cell_type": "code",
   "execution_count": 7,
   "id": "017ecd6e",
   "metadata": {},
   "outputs": [
    {
     "name": "stdout",
     "output_type": "stream",
     "text": [
      "(48000, 784) (10000, 784)\n",
      "(48000,) (10000,)\n"
     ]
    }
   ],
   "source": [
    "print(train_scaled.shape, test_scaled.shape)\n",
    "print(train_target.shape, test_target.shape)"
   ]
  },
  {
   "cell_type": "markdown",
   "id": "39b6e16d",
   "metadata": {},
   "source": [
    "#### 심층신경망 만들기1"
   ]
  },
  {
   "cell_type": "code",
   "execution_count": 8,
   "id": "af431093",
   "metadata": {},
   "outputs": [],
   "source": [
    "# 밀집층 생성\n",
    "dense1 = keras.layers.Dense(100, activation='sigmoid', input_shape=(784,), name='hidden')\n",
    "dense2 = keras.layers.Dense(10, activation='softmax', name='output')"
   ]
  },
  {
   "cell_type": "code",
   "execution_count": 9,
   "id": "7d4361cb",
   "metadata": {},
   "outputs": [
    {
     "name": "stdout",
     "output_type": "stream",
     "text": [
      "WARNING:tensorflow:From c:\\Source\\iot-dataanalysis-2025\\mlvenv\\Lib\\site-packages\\keras\\src\\backend.py:873: The name tf.get_default_graph is deprecated. Please use tf.compat.v1.get_default_graph instead.\n",
      "\n"
     ]
    }
   ],
   "source": [
    "# 신경망 모델 생성\n",
    "model = keras.Sequential([dense1, dense2])"
   ]
  },
  {
   "cell_type": "code",
   "execution_count": 10,
   "id": "ec419735",
   "metadata": {},
   "outputs": [
    {
     "name": "stdout",
     "output_type": "stream",
     "text": [
      "Model: \"sequential\"\n",
      "_________________________________________________________________\n",
      " Layer (type)                Output Shape              Param #   \n",
      "=================================================================\n",
      " hidden (Dense)              (None, 100)               78500     \n",
      "                                                                 \n",
      " output (Dense)              (None, 10)                1010      \n",
      "                                                                 \n",
      "=================================================================\n",
      "Total params: 79510 (310.59 KB)\n",
      "Trainable params: 79510 (310.59 KB)\n",
      "Non-trainable params: 0 (0.00 Byte)\n",
      "_________________________________________________________________\n"
     ]
    }
   ],
   "source": [
    "# 모델 요약\n",
    "model.summary()"
   ]
  },
  {
   "cell_type": "markdown",
   "id": "fd032d1f",
   "metadata": {},
   "source": [
    "#### 심층신경망 만들기2"
   ]
  },
  {
   "cell_type": "code",
   "execution_count": 11,
   "id": "4c79f96f",
   "metadata": {},
   "outputs": [],
   "source": [
    "model = keras.Sequential([\n",
    "    keras.layers.Dense(100, activation='sigmoid', input_shape=(784,), name='hidden'),\n",
    "    keras.layers.Dense(10, activation='softmax', name='output')\n",
    "], name='Fashion_MNIST_Model')"
   ]
  },
  {
   "cell_type": "code",
   "execution_count": 12,
   "id": "0c379b92",
   "metadata": {},
   "outputs": [
    {
     "name": "stdout",
     "output_type": "stream",
     "text": [
      "Model: \"Fashion_MNIST_Model\"\n",
      "_________________________________________________________________\n",
      " Layer (type)                Output Shape              Param #   \n",
      "=================================================================\n",
      " hidden (Dense)              (None, 100)               78500     \n",
      "                                                                 \n",
      " output (Dense)              (None, 10)                1010      \n",
      "                                                                 \n",
      "=================================================================\n",
      "Total params: 79510 (310.59 KB)\n",
      "Trainable params: 79510 (310.59 KB)\n",
      "Non-trainable params: 0 (0.00 Byte)\n",
      "_________________________________________________________________\n"
     ]
    }
   ],
   "source": [
    "model.summary()"
   ]
  },
  {
   "cell_type": "code",
   "execution_count": 13,
   "id": "291a71ab",
   "metadata": {},
   "outputs": [
    {
     "name": "stdout",
     "output_type": "stream",
     "text": [
      "WARNING:tensorflow:From c:\\Source\\iot-dataanalysis-2025\\mlvenv\\Lib\\site-packages\\keras\\src\\optimizers\\__init__.py:309: The name tf.train.Optimizer is deprecated. Please use tf.compat.v1.train.Optimizer instead.\n",
      "\n"
     ]
    }
   ],
   "source": [
    "# 모델 훈련전 설정\n",
    "model.compile(loss='sparse_categorical_crossentropy', metrics='accuracy')"
   ]
  },
  {
   "cell_type": "code",
   "execution_count": 14,
   "id": "70aae8c4",
   "metadata": {},
   "outputs": [
    {
     "name": "stdout",
     "output_type": "stream",
     "text": [
      "Epoch 1/100\n",
      "WARNING:tensorflow:From c:\\Source\\iot-dataanalysis-2025\\mlvenv\\Lib\\site-packages\\keras\\src\\utils\\tf_utils.py:492: The name tf.ragged.RaggedTensorValue is deprecated. Please use tf.compat.v1.ragged.RaggedTensorValue instead.\n",
      "\n",
      "WARNING:tensorflow:From c:\\Source\\iot-dataanalysis-2025\\mlvenv\\Lib\\site-packages\\keras\\src\\engine\\base_layer_utils.py:384: The name tf.executing_eagerly_outside_functions is deprecated. Please use tf.compat.v1.executing_eagerly_outside_functions instead.\n",
      "\n",
      "1500/1500 [==============================] - 2s 1ms/step - loss: 0.4701 - accuracy: 0.8350\n",
      "Epoch 2/100\n",
      "1500/1500 [==============================] - 2s 1ms/step - loss: 0.3569 - accuracy: 0.8715\n",
      "Epoch 3/100\n",
      "1500/1500 [==============================] - 2s 1ms/step - loss: 0.3202 - accuracy: 0.8848\n",
      "Epoch 4/100\n",
      "1500/1500 [==============================] - 2s 1ms/step - loss: 0.2954 - accuracy: 0.8938\n",
      "Epoch 5/100\n",
      "1500/1500 [==============================] - 2s 1ms/step - loss: 0.2753 - accuracy: 0.9011\n",
      "Epoch 6/100\n",
      "1500/1500 [==============================] - 2s 1ms/step - loss: 0.2584 - accuracy: 0.9069\n",
      "Epoch 7/100\n",
      "1500/1500 [==============================] - 2s 1ms/step - loss: 0.2442 - accuracy: 0.9128\n",
      "Epoch 8/100\n",
      "1500/1500 [==============================] - 2s 1ms/step - loss: 0.2296 - accuracy: 0.9162\n",
      "Epoch 9/100\n",
      "1500/1500 [==============================] - 2s 1ms/step - loss: 0.2175 - accuracy: 0.9229\n",
      "Epoch 10/100\n",
      "1500/1500 [==============================] - 2s 1ms/step - loss: 0.2069 - accuracy: 0.9266\n",
      "Epoch 11/100\n",
      "1500/1500 [==============================] - 2s 1ms/step - loss: 0.1956 - accuracy: 0.9305\n",
      "Epoch 12/100\n",
      "1500/1500 [==============================] - 2s 1ms/step - loss: 0.1858 - accuracy: 0.9343\n",
      "Epoch 13/100\n",
      "1500/1500 [==============================] - 2s 1ms/step - loss: 0.1768 - accuracy: 0.9375\n",
      "Epoch 14/100\n",
      "1500/1500 [==============================] - 2s 1ms/step - loss: 0.1689 - accuracy: 0.9408\n",
      "Epoch 15/100\n",
      "1500/1500 [==============================] - 2s 1ms/step - loss: 0.1604 - accuracy: 0.9442\n",
      "Epoch 16/100\n",
      "1500/1500 [==============================] - 2s 1ms/step - loss: 0.1524 - accuracy: 0.9474\n",
      "Epoch 17/100\n",
      "1500/1500 [==============================] - 2s 1ms/step - loss: 0.1460 - accuracy: 0.9504\n",
      "Epoch 18/100\n",
      "1500/1500 [==============================] - 2s 1ms/step - loss: 0.1393 - accuracy: 0.9526\n",
      "Epoch 19/100\n",
      "1500/1500 [==============================] - 2s 1ms/step - loss: 0.1318 - accuracy: 0.9555\n",
      "Epoch 20/100\n",
      "1500/1500 [==============================] - 2s 1ms/step - loss: 0.1249 - accuracy: 0.9578\n",
      "Epoch 21/100\n",
      "1500/1500 [==============================] - 2s 1ms/step - loss: 0.1200 - accuracy: 0.9599\n",
      "Epoch 22/100\n",
      "1500/1500 [==============================] - 2s 1ms/step - loss: 0.1154 - accuracy: 0.9617\n",
      "Epoch 23/100\n",
      "1500/1500 [==============================] - 2s 1ms/step - loss: 0.1094 - accuracy: 0.9639\n",
      "Epoch 24/100\n",
      "1500/1500 [==============================] - 2s 1ms/step - loss: 0.1044 - accuracy: 0.9653\n",
      "Epoch 25/100\n",
      "1500/1500 [==============================] - 2s 1ms/step - loss: 0.1002 - accuracy: 0.9676\n",
      "Epoch 26/100\n",
      "1500/1500 [==============================] - 2s 1ms/step - loss: 0.0959 - accuracy: 0.9691\n",
      "Epoch 27/100\n",
      "1500/1500 [==============================] - 2s 1ms/step - loss: 0.0915 - accuracy: 0.9704\n",
      "Epoch 28/100\n",
      "1500/1500 [==============================] - 2s 1ms/step - loss: 0.0871 - accuracy: 0.9720\n",
      "Epoch 29/100\n",
      "1500/1500 [==============================] - 2s 1ms/step - loss: 0.0833 - accuracy: 0.9731\n",
      "Epoch 30/100\n",
      "1500/1500 [==============================] - 2s 1ms/step - loss: 0.0789 - accuracy: 0.9748\n",
      "Epoch 31/100\n",
      "1500/1500 [==============================] - 2s 1ms/step - loss: 0.0760 - accuracy: 0.9757\n",
      "Epoch 32/100\n",
      "1500/1500 [==============================] - 2s 1ms/step - loss: 0.0725 - accuracy: 0.9774\n",
      "Epoch 33/100\n",
      "1500/1500 [==============================] - 2s 1ms/step - loss: 0.0686 - accuracy: 0.9783\n",
      "Epoch 34/100\n",
      "1500/1500 [==============================] - 2s 1ms/step - loss: 0.0652 - accuracy: 0.9804\n",
      "Epoch 35/100\n",
      "1500/1500 [==============================] - 2s 1ms/step - loss: 0.0631 - accuracy: 0.9808\n",
      "Epoch 36/100\n",
      "1500/1500 [==============================] - 2s 1ms/step - loss: 0.0600 - accuracy: 0.9822\n",
      "Epoch 37/100\n",
      "1500/1500 [==============================] - 2s 1ms/step - loss: 0.0572 - accuracy: 0.9827\n",
      "Epoch 38/100\n",
      "1500/1500 [==============================] - 2s 1ms/step - loss: 0.0542 - accuracy: 0.9840\n",
      "Epoch 39/100\n",
      "1500/1500 [==============================] - 2s 1ms/step - loss: 0.0515 - accuracy: 0.9848\n",
      "Epoch 40/100\n",
      "1500/1500 [==============================] - 2s 1ms/step - loss: 0.0502 - accuracy: 0.9849\n",
      "Epoch 41/100\n",
      "1500/1500 [==============================] - 2s 1ms/step - loss: 0.0463 - accuracy: 0.9867\n",
      "Epoch 42/100\n",
      "1500/1500 [==============================] - 2s 1ms/step - loss: 0.0454 - accuracy: 0.9868\n",
      "Epoch 43/100\n",
      "1500/1500 [==============================] - 2s 1ms/step - loss: 0.0426 - accuracy: 0.9873\n",
      "Epoch 44/100\n",
      "1500/1500 [==============================] - 2s 1ms/step - loss: 0.0410 - accuracy: 0.9880\n",
      "Epoch 45/100\n",
      "1500/1500 [==============================] - 2s 1ms/step - loss: 0.0397 - accuracy: 0.9889\n",
      "Epoch 46/100\n",
      "1500/1500 [==============================] - 2s 1ms/step - loss: 0.0373 - accuracy: 0.9893\n",
      "Epoch 47/100\n",
      "1500/1500 [==============================] - 2s 1ms/step - loss: 0.0348 - accuracy: 0.9905\n",
      "Epoch 48/100\n",
      "1500/1500 [==============================] - 2s 1ms/step - loss: 0.0332 - accuracy: 0.9906\n",
      "Epoch 49/100\n",
      "1500/1500 [==============================] - 2s 1ms/step - loss: 0.0327 - accuracy: 0.9905\n",
      "Epoch 50/100\n",
      "1500/1500 [==============================] - 2s 1ms/step - loss: 0.0317 - accuracy: 0.9913\n",
      "Epoch 51/100\n",
      "1500/1500 [==============================] - 2s 1ms/step - loss: 0.0295 - accuracy: 0.9920\n",
      "Epoch 52/100\n",
      "1500/1500 [==============================] - 2s 1ms/step - loss: 0.0276 - accuracy: 0.9922\n",
      "Epoch 53/100\n",
      "1500/1500 [==============================] - 2s 1ms/step - loss: 0.0266 - accuracy: 0.9930\n",
      "Epoch 54/100\n",
      "1500/1500 [==============================] - 2s 1ms/step - loss: 0.0252 - accuracy: 0.9933\n",
      "Epoch 55/100\n",
      "1500/1500 [==============================] - 2s 1ms/step - loss: 0.0246 - accuracy: 0.9937\n",
      "Epoch 56/100\n",
      "1500/1500 [==============================] - 2s 1ms/step - loss: 0.0229 - accuracy: 0.9943\n",
      "Epoch 57/100\n",
      "1500/1500 [==============================] - 2s 1ms/step - loss: 0.0218 - accuracy: 0.9940\n",
      "Epoch 58/100\n",
      "1500/1500 [==============================] - 2s 1ms/step - loss: 0.0199 - accuracy: 0.9948\n",
      "Epoch 59/100\n",
      "1500/1500 [==============================] - 2s 1ms/step - loss: 0.0192 - accuracy: 0.9952\n",
      "Epoch 60/100\n",
      "1500/1500 [==============================] - 2s 1ms/step - loss: 0.0183 - accuracy: 0.9953\n",
      "Epoch 61/100\n",
      "1500/1500 [==============================] - 2s 1ms/step - loss: 0.0174 - accuracy: 0.9956\n",
      "Epoch 62/100\n",
      "1500/1500 [==============================] - 2s 1ms/step - loss: 0.0167 - accuracy: 0.9958\n",
      "Epoch 63/100\n",
      "1500/1500 [==============================] - 2s 1ms/step - loss: 0.0156 - accuracy: 0.9961\n",
      "Epoch 64/100\n",
      "1500/1500 [==============================] - 2s 1ms/step - loss: 0.0153 - accuracy: 0.9961\n",
      "Epoch 65/100\n",
      "1500/1500 [==============================] - 2s 1ms/step - loss: 0.0147 - accuracy: 0.9962\n",
      "Epoch 66/100\n",
      "1500/1500 [==============================] - 2s 1ms/step - loss: 0.0135 - accuracy: 0.9965\n",
      "Epoch 67/100\n",
      "1500/1500 [==============================] - 2s 1ms/step - loss: 0.0126 - accuracy: 0.9971\n",
      "Epoch 68/100\n",
      "1500/1500 [==============================] - 2s 1ms/step - loss: 0.0122 - accuracy: 0.9972\n",
      "Epoch 69/100\n",
      "1500/1500 [==============================] - 2s 1ms/step - loss: 0.0115 - accuracy: 0.9970\n",
      "Epoch 70/100\n",
      "1500/1500 [==============================] - 2s 1ms/step - loss: 0.0109 - accuracy: 0.9974\n",
      "Epoch 71/100\n",
      "1500/1500 [==============================] - 2s 1ms/step - loss: 0.0111 - accuracy: 0.9974\n",
      "Epoch 72/100\n",
      "1500/1500 [==============================] - 2s 1ms/step - loss: 0.0096 - accuracy: 0.9977\n",
      "Epoch 73/100\n",
      "1500/1500 [==============================] - 2s 1ms/step - loss: 0.0095 - accuracy: 0.9980\n",
      "Epoch 74/100\n",
      "1500/1500 [==============================] - 2s 1ms/step - loss: 0.0089 - accuracy: 0.9977\n",
      "Epoch 75/100\n",
      "1500/1500 [==============================] - 2s 1ms/step - loss: 0.0084 - accuracy: 0.9978\n",
      "Epoch 76/100\n",
      "1500/1500 [==============================] - 2s 1ms/step - loss: 0.0081 - accuracy: 0.9982\n",
      "Epoch 77/100\n",
      "1500/1500 [==============================] - 2s 1ms/step - loss: 0.0073 - accuracy: 0.9982\n",
      "Epoch 78/100\n",
      "1500/1500 [==============================] - 2s 1ms/step - loss: 0.0067 - accuracy: 0.9985\n",
      "Epoch 79/100\n",
      "1500/1500 [==============================] - 2s 1ms/step - loss: 0.0067 - accuracy: 0.9985\n",
      "Epoch 80/100\n",
      "1500/1500 [==============================] - 2s 1ms/step - loss: 0.0062 - accuracy: 0.9986\n",
      "Epoch 81/100\n",
      "1500/1500 [==============================] - 2s 1ms/step - loss: 0.0054 - accuracy: 0.9989\n",
      "Epoch 82/100\n",
      "1500/1500 [==============================] - 2s 1ms/step - loss: 0.0054 - accuracy: 0.9987\n",
      "Epoch 83/100\n",
      "1500/1500 [==============================] - 2s 1ms/step - loss: 0.0048 - accuracy: 0.9989\n",
      "Epoch 84/100\n",
      "1500/1500 [==============================] - 2s 1ms/step - loss: 0.0047 - accuracy: 0.9989\n",
      "Epoch 85/100\n",
      "1500/1500 [==============================] - 2s 1ms/step - loss: 0.0048 - accuracy: 0.9988\n",
      "Epoch 86/100\n",
      "1500/1500 [==============================] - 2s 1ms/step - loss: 0.0043 - accuracy: 0.9991\n",
      "Epoch 87/100\n",
      "1500/1500 [==============================] - 2s 1ms/step - loss: 0.0036 - accuracy: 0.9993\n",
      "Epoch 88/100\n",
      "1500/1500 [==============================] - 2s 1ms/step - loss: 0.0036 - accuracy: 0.9993\n",
      "Epoch 89/100\n",
      "1500/1500 [==============================] - 2s 1ms/step - loss: 0.0032 - accuracy: 0.9994\n",
      "Epoch 90/100\n",
      "1500/1500 [==============================] - 2s 1ms/step - loss: 0.0028 - accuracy: 0.9995\n",
      "Epoch 91/100\n",
      "1500/1500 [==============================] - 2s 1ms/step - loss: 0.0028 - accuracy: 0.9995\n",
      "Epoch 92/100\n",
      "1500/1500 [==============================] - 2s 1ms/step - loss: 0.0032 - accuracy: 0.9992\n",
      "Epoch 93/100\n",
      "1500/1500 [==============================] - 2s 1ms/step - loss: 0.0026 - accuracy: 0.9995\n",
      "Epoch 94/100\n",
      "1500/1500 [==============================] - 2s 1ms/step - loss: 0.0024 - accuracy: 0.9995\n",
      "Epoch 95/100\n",
      "1500/1500 [==============================] - 2s 1ms/step - loss: 0.0021 - accuracy: 0.9997\n",
      "Epoch 96/100\n",
      "1500/1500 [==============================] - 2s 1ms/step - loss: 0.0017 - accuracy: 0.9998\n",
      "Epoch 97/100\n",
      "1500/1500 [==============================] - 2s 1ms/step - loss: 0.0017 - accuracy: 0.9997\n",
      "Epoch 98/100\n",
      "1500/1500 [==============================] - 2s 1ms/step - loss: 0.0013 - accuracy: 0.9998\n",
      "Epoch 99/100\n",
      "1500/1500 [==============================] - 2s 1ms/step - loss: 0.0014 - accuracy: 0.9998\n",
      "Epoch 100/100\n",
      "1500/1500 [==============================] - 2s 1ms/step - loss: 0.0015 - accuracy: 0.9998\n"
     ]
    },
    {
     "data": {
      "text/plain": [
       "<keras.src.callbacks.History at 0x2217444a590>"
      ]
     },
     "execution_count": 14,
     "metadata": {},
     "output_type": "execute_result"
    }
   ],
   "source": [
    "# 훈련\n",
    "model.fit(train_scaled, train_target, epochs=100)"
   ]
  },
  {
   "cell_type": "code",
   "execution_count": 15,
   "id": "614e8040",
   "metadata": {},
   "outputs": [
    {
     "name": "stdout",
     "output_type": "stream",
     "text": [
      "375/375 [==============================] - 0s 1ms/step - loss: 0.8606 - accuracy: 0.8788\n"
     ]
    },
    {
     "data": {
      "text/plain": [
       "[0.860578715801239, 0.8787500262260437]"
      ]
     },
     "execution_count": 15,
     "metadata": {},
     "output_type": "execute_result"
    }
   ],
   "source": [
    "model.evaluate(val_scaled, val_target)\n",
    "# 검증 정확도 : 87.8%"
   ]
  },
  {
   "cell_type": "code",
   "execution_count": 16,
   "id": "372454a6",
   "metadata": {},
   "outputs": [
    {
     "name": "stdout",
     "output_type": "stream",
     "text": [
      "313/313 [==============================] - 0s 914us/step\n"
     ]
    }
   ],
   "source": [
    "pred_result = model.predict(test_scaled)"
   ]
  },
  {
   "cell_type": "code",
   "execution_count": 17,
   "id": "11393824",
   "metadata": {},
   "outputs": [],
   "source": [
    "import matplotlib.pyplot as plt\n",
    "import seaborn as sns\n",
    "import numpy as np"
   ]
  },
  {
   "cell_type": "code",
   "execution_count": 18,
   "id": "a255aeea",
   "metadata": {},
   "outputs": [],
   "source": [
    "from matplotlib import rcParams, font_manager, rc\n",
    "\n",
    "font_path = 'C:/Windows/Fonts/malgun.ttf'\n",
    "font = font_manager.FontProperties(fname=font_path).get_name()\n",
    "rc('font', family=font)\n",
    "rcParams['axes.unicode_minus'] = False\n",
    "\n",
    "sns.set_style('darkgrid')\n",
    "sns.set_theme(font='Malgun Gothic', rc={'axes.unicode_minus': False})"
   ]
  },
  {
   "cell_type": "code",
   "execution_count": 19,
   "id": "74274658",
   "metadata": {},
   "outputs": [],
   "source": [
    "class_names = ['티셔츠', '바지', '스웨터', '드레스', '코트', '샌달', '셔츠', '스니커즈', '가방', '엥클부츠']"
   ]
  },
  {
   "cell_type": "code",
   "execution_count": 20,
   "id": "e0e59f6f",
   "metadata": {},
   "outputs": [],
   "source": [
    "# 테스트이미지와 예측결과 시각화\n",
    "def show_image(index):\n",
    "    plt.figure(figsize=(2,2))\n",
    "    plt.imshow(test_input[index].reshape(28, 28), cmap='gray_r')\n",
    "    true_label = class_names[test_target[index]]\n",
    "    pred_label = class_names[np.argmax(pred_result[index])]\n",
    "\n",
    "    #plt.title(f'실제: {true_label}, 예측: {pred_label}')\n",
    "    plt.text(0, -6, f'실제: {true_label}', fontsize=12, color='blue')\n",
    "    plt.text(0, -3, f'예측: {pred_label}', fontsize=12, color='red', fontweight='bold')\n",
    "\n",
    "    plt.axis('off')\n",
    "    plt.show()"
   ]
  },
  {
   "cell_type": "code",
   "execution_count": 21,
   "id": "e82d3198",
   "metadata": {},
   "outputs": [
    {
     "data": {
      "image/png": "[encoded data removed]",
      "text/plain": [
       "<Figure size 200x200 with 1 Axes>"
      ]
     },
     "metadata": {},
     "output_type": "display_data"
    },
    {
     "data": {
      "image/png": "[encoded data removed]",
      "text/plain": [
       "<Figure size 200x200 with 1 Axes>"
      ]
     },
     "metadata": {},
     "output_type": "display_data"
    },
    {
     "data": {
      "image/png": "[encoded data removed]",
      "text/plain": [
       "<Figure size 200x200 with 1 Axes>"
      ]
     },
     "metadata": {},
     "output_type": "display_data"
    }
   ],
   "source": [
    "for i in range(10,13):\n",
    "    show_image(i)"
   ]
  },
  {
   "cell_type": "markdown",
   "id": "337fa77a",
   "metadata": {},
   "source": [
    "#### ReLU 함수\n",
    "\n",
    "- 인공신경망 은닉층에 초기에는 Sigmoid 함수 사용\n",
    "    - 단점 : 오른쪽, 왼쪽 끝으로 갈 수록 그래프가 누워있어서 올바른 출력을 못 만듦\n",
    "- ReLU 함수 : 수정된 선형 유닛 뜻의 함수\n",
    "\n",
    "    <img src=\"../image/ml0011.png\" width=\"500\">"
   ]
  },
  {
   "cell_type": "markdown",
   "id": "11b41789",
   "metadata": {},
   "source": [
    "#### Flatten 객체\n",
    "- 이미지 2차원배열을 1차원으로 변경할 때 np.reshape() 사용\n",
    "- Flattem 클래스가 위의 일을 대신해줌"
   ]
  },
  {
   "cell_type": "code",
   "execution_count": 22,
   "id": "55c1b4dd",
   "metadata": {},
   "outputs": [],
   "source": [
    "model2 = keras.Sequential([\n",
    "    keras.layers.Flatten(input_shape=(28, 28), name='flatten'),\n",
    "    keras.layers.Dense(100, activation='relu', name='hidden'),\n",
    "    keras.layers.Dense(10, activation='softmax', name='output')\n",
    "], name='Fashion_MNIST_RELU')"
   ]
  },
  {
   "cell_type": "code",
   "execution_count": 23,
   "id": "78041b87",
   "metadata": {},
   "outputs": [
    {
     "name": "stdout",
     "output_type": "stream",
     "text": [
      "Model: \"Fashion_MNIST_RELU\"\n",
      "_________________________________________________________________\n",
      " Layer (type)                Output Shape              Param #   \n",
      "=================================================================\n",
      " flatten (Flatten)           (None, 784)               0         \n",
      "                                                                 \n",
      " hidden (Dense)              (None, 100)               78500     \n",
      "                                                                 \n",
      " output (Dense)              (None, 10)                1010      \n",
      "                                                                 \n",
      "=================================================================\n",
      "Total params: 79510 (310.59 KB)\n",
      "Trainable params: 79510 (310.59 KB)\n",
      "Non-trainable params: 0 (0.00 Byte)\n",
      "_________________________________________________________________\n"
     ]
    }
   ],
   "source": [
    "model2.summary()"
   ]
  },
  {
   "cell_type": "code",
   "execution_count": 24,
   "id": "712d61f1",
   "metadata": {},
   "outputs": [],
   "source": [
    "(train_input, train_target), (test_input, test_target) = keras.datasets.fashion_mnist.load_data()"
   ]
  },
  {
   "cell_type": "code",
   "execution_count": 25,
   "id": "359540f0",
   "metadata": {},
   "outputs": [],
   "source": [
    "train_scaled = train_input / 255.0\n",
    "test_scaled = test_input / 255.0"
   ]
  },
  {
   "cell_type": "code",
   "execution_count": 26,
   "id": "a57375b6",
   "metadata": {},
   "outputs": [],
   "source": [
    "# 훈련세트, 검증세트 분리\n",
    "train_scaled, val_scaled, train_target, val_target = train_test_split(\n",
    "    train_scaled, train_target, test_size=0.2, random_state=42\n",
    ")"
   ]
  },
  {
   "cell_type": "code",
   "execution_count": 27,
   "id": "39f7e662",
   "metadata": {},
   "outputs": [],
   "source": [
    "# 모델 설정\n",
    "model2.compile(loss='sparse_categorical_crossentropy', metrics='accuracy')"
   ]
  },
  {
   "cell_type": "code",
   "execution_count": 28,
   "id": "f57c5505",
   "metadata": {},
   "outputs": [
    {
     "name": "stdout",
     "output_type": "stream",
     "text": [
      "Epoch 1/20\n",
      "1500/1500 [==============================] - 2s 1ms/step - loss: 0.5296 - accuracy: 0.8121\n",
      "Epoch 2/20\n",
      "1500/1500 [==============================] - 2s 1ms/step - loss: 0.3910 - accuracy: 0.8586\n",
      "Epoch 3/20\n",
      "1500/1500 [==============================] - 2s 1ms/step - loss: 0.3521 - accuracy: 0.8730\n",
      "Epoch 4/20\n",
      "1500/1500 [==============================] - 2s 1ms/step - loss: 0.3319 - accuracy: 0.8809\n",
      "Epoch 5/20\n",
      "1500/1500 [==============================] - 2s 1ms/step - loss: 0.3177 - accuracy: 0.8863\n",
      "Epoch 6/20\n",
      "1500/1500 [==============================] - 2s 1ms/step - loss: 0.3040 - accuracy: 0.8906\n",
      "Epoch 7/20\n",
      "1500/1500 [==============================] - 2s 1ms/step - loss: 0.2901 - accuracy: 0.8966\n",
      "Epoch 8/20\n",
      "1500/1500 [==============================] - 2s 1ms/step - loss: 0.2843 - accuracy: 0.8973\n",
      "Epoch 9/20\n",
      "1500/1500 [==============================] - 2s 1ms/step - loss: 0.2772 - accuracy: 0.9006\n",
      "Epoch 10/20\n",
      "1500/1500 [==============================] - 2s 1ms/step - loss: 0.2714 - accuracy: 0.9029\n",
      "Epoch 11/20\n",
      "1500/1500 [==============================] - 2s 1ms/step - loss: 0.2624 - accuracy: 0.9058\n",
      "Epoch 12/20\n",
      "1500/1500 [==============================] - 2s 1ms/step - loss: 0.2582 - accuracy: 0.9087\n",
      "Epoch 13/20\n",
      "1500/1500 [==============================] - 2s 1ms/step - loss: 0.2537 - accuracy: 0.9096\n",
      "Epoch 14/20\n",
      "1500/1500 [==============================] - 2s 1ms/step - loss: 0.2489 - accuracy: 0.9132\n",
      "Epoch 15/20\n",
      "1500/1500 [==============================] - 2s 1ms/step - loss: 0.2449 - accuracy: 0.9133\n",
      "Epoch 16/20\n",
      "1500/1500 [==============================] - 2s 1ms/step - loss: 0.2399 - accuracy: 0.9149\n",
      "Epoch 17/20\n",
      "1500/1500 [==============================] - 2s 1ms/step - loss: 0.2340 - accuracy: 0.9179\n",
      "Epoch 18/20\n",
      "1500/1500 [==============================] - 2s 1ms/step - loss: 0.2314 - accuracy: 0.9187\n",
      "Epoch 19/20\n",
      "1500/1500 [==============================] - 2s 1ms/step - loss: 0.2300 - accuracy: 0.9201\n",
      "Epoch 20/20\n",
      "1500/1500 [==============================] - 2s 1ms/step - loss: 0.2231 - accuracy: 0.9228\n"
     ]
    },
    {
     "data": {
      "text/plain": [
       "<keras.src.callbacks.History at 0x221777c73d0>"
      ]
     },
     "execution_count": 28,
     "metadata": {},
     "output_type": "execute_result"
    }
   ],
   "source": [
    "# 모델 훈련\n",
    "model2.fit(train_scaled, train_target, epochs=20)"
   ]
  },
  {
   "cell_type": "code",
   "execution_count": 29,
   "id": "b4424bd5",
   "metadata": {},
   "outputs": [
    {
     "name": "stdout",
     "output_type": "stream",
     "text": [
      "375/375 [==============================] - 0s 959us/step - loss: 0.4431 - accuracy: 0.8843\n"
     ]
    },
    {
     "data": {
      "text/plain": [
       "[0.4430810809135437, 0.8843333125114441]"
      ]
     },
     "execution_count": 29,
     "metadata": {},
     "output_type": "execute_result"
    }
   ],
   "source": [
    "model2.evaluate(val_scaled, val_target)\n",
    "# ReLU함수 사용시, Sigmoid함수 사용시 0.01% 개선"
   ]
  },
  {
   "cell_type": "markdown",
   "id": "484ac36a",
   "metadata": {},
   "source": [
    "#### 옵티마이저\n",
    "- 하이퍼파라미터 값 최적화"
   ]
  },
  {
   "cell_type": "code",
   "execution_count": 30,
   "id": "0e1e02c5",
   "metadata": {},
   "outputs": [],
   "source": [
    "model3 = keras.Sequential([\n",
    "    keras.layers.Flatten(input_shape=(28, 28), name='flatten'),\n",
    "    keras.layers.Dense(100, activation='relu', name='hidden'),\n",
    "    keras.layers.Dense(10, activation='softmax', name='output')\n",
    "], name='Fashion_MNIST_RELU')"
   ]
  },
  {
   "cell_type": "code",
   "execution_count": 31,
   "id": "267bddec",
   "metadata": {},
   "outputs": [],
   "source": [
    "# 모델 설정, 최적화는 adam클래스만 사용할 것\n",
    "model3.compile(loss='sparse_categorical_crossentropy', metrics='accuracy', optimizer='adam')"
   ]
  },
  {
   "cell_type": "code",
   "execution_count": 32,
   "id": "b7a5dd4f",
   "metadata": {},
   "outputs": [
    {
     "name": "stdout",
     "output_type": "stream",
     "text": [
      "Epoch 1/20\n",
      "1500/1500 [==============================] - 2s 1ms/step - loss: 0.5273 - accuracy: 0.8154\n",
      "Epoch 2/20\n",
      "1500/1500 [==============================] - 2s 1ms/step - loss: 0.3942 - accuracy: 0.8580\n",
      "Epoch 3/20\n",
      "1500/1500 [==============================] - 2s 1ms/step - loss: 0.3532 - accuracy: 0.8706\n",
      "Epoch 4/20\n",
      "1500/1500 [==============================] - 2s 1ms/step - loss: 0.3256 - accuracy: 0.8808\n",
      "Epoch 5/20\n",
      "1500/1500 [==============================] - 2s 1ms/step - loss: 0.3084 - accuracy: 0.8876\n",
      "Epoch 6/20\n",
      "1500/1500 [==============================] - 2s 1ms/step - loss: 0.2920 - accuracy: 0.8919\n",
      "Epoch 7/20\n",
      "1500/1500 [==============================] - 2s 1ms/step - loss: 0.2794 - accuracy: 0.8969\n",
      "Epoch 8/20\n",
      "1500/1500 [==============================] - 2s 1ms/step - loss: 0.2722 - accuracy: 0.9001\n",
      "Epoch 9/20\n",
      "1500/1500 [==============================] - 2s 2ms/step - loss: 0.2606 - accuracy: 0.9030\n",
      "Epoch 10/20\n",
      "1500/1500 [==============================] - 2s 1ms/step - loss: 0.2493 - accuracy: 0.9066\n",
      "Epoch 11/20\n",
      "1500/1500 [==============================] - 2s 1ms/step - loss: 0.2438 - accuracy: 0.9080\n",
      "Epoch 12/20\n",
      "1500/1500 [==============================] - 2s 2ms/step - loss: 0.2358 - accuracy: 0.9117\n",
      "Epoch 13/20\n",
      "1500/1500 [==============================] - 2s 2ms/step - loss: 0.2274 - accuracy: 0.9147\n",
      "Epoch 14/20\n",
      "1500/1500 [==============================] - 2s 2ms/step - loss: 0.2227 - accuracy: 0.9166\n",
      "Epoch 15/20\n",
      "1500/1500 [==============================] - 2s 2ms/step - loss: 0.2168 - accuracy: 0.9179\n",
      "Epoch 16/20\n",
      "1500/1500 [==============================] - 2s 2ms/step - loss: 0.2097 - accuracy: 0.9203\n",
      "Epoch 17/20\n",
      "1500/1500 [==============================] - 2s 1ms/step - loss: 0.2036 - accuracy: 0.9233\n",
      "Epoch 18/20\n",
      "1500/1500 [==============================] - 2s 1ms/step - loss: 0.2014 - accuracy: 0.9239\n",
      "Epoch 19/20\n",
      "1500/1500 [==============================] - 2s 1ms/step - loss: 0.1923 - accuracy: 0.9272\n",
      "Epoch 20/20\n",
      "1500/1500 [==============================] - 2s 1ms/step - loss: 0.1893 - accuracy: 0.9285\n"
     ]
    },
    {
     "data": {
      "text/plain": [
       "<keras.src.callbacks.History at 0x221777c4ad0>"
      ]
     },
     "execution_count": 32,
     "metadata": {},
     "output_type": "execute_result"
    }
   ],
   "source": [
    "# 모델 훈련. 모델훈련은 정보를 저장하기 때문에 다시 수행하면 이전 정보를 담고 시작\n",
    "model3.fit(train_scaled, train_target, epochs=20)"
   ]
  },
  {
   "cell_type": "markdown",
   "id": "4172f6be",
   "metadata": {},
   "source": [
    "- optimizer 사용시 0.01정도 개선"
   ]
  },
  {
   "cell_type": "code",
   "execution_count": 33,
   "id": "b44d516b",
   "metadata": {},
   "outputs": [
    {
     "name": "stdout",
     "output_type": "stream",
     "text": [
      "375/375 [==============================] - 0s 1ms/step - loss: 0.3351 - accuracy: 0.8884\n"
     ]
    },
    {
     "data": {
      "text/plain": [
       "[0.3351020812988281, 0.8884166479110718]"
      ]
     },
     "execution_count": 33,
     "metadata": {},
     "output_type": "execute_result"
    }
   ],
   "source": [
    "model3.evaluate(val_scaled, val_target)\n",
    "# 훈련 95%, 검증 88% - 7정도 차이"
   ]
  },
  {
   "cell_type": "markdown",
   "id": "6d059bf8",
   "metadata": {},
   "source": [
    "#### 드롭아웃\n",
    "- 훈련과정 밀집층에 일부 뉴런을 꺼버림."
   ]
  },
  {
   "cell_type": "code",
   "execution_count": 34,
   "id": "81124431",
   "metadata": {},
   "outputs": [],
   "source": [
    "model4 = keras.Sequential([\n",
    "    keras.layers.Flatten(input_shape=(28, 28), name='flatten'),\n",
    "    keras.layers.Dense(100, activation='relu', name='hidden'),\n",
    "    keras.layers.Dropout(0.3, name='dropout'), \n",
    "    keras.layers.Dense(10, activation='softmax', name='output')\n",
    "], name='Fashion_MNIST_RELU')"
   ]
  },
  {
   "cell_type": "code",
   "execution_count": 35,
   "id": "de3f11ac",
   "metadata": {},
   "outputs": [
    {
     "name": "stdout",
     "output_type": "stream",
     "text": [
      "Model: \"Fashion_MNIST_RELU\"\n",
      "_________________________________________________________________\n",
      " Layer (type)                Output Shape              Param #   \n",
      "=================================================================\n",
      " flatten (Flatten)           (None, 784)               0         \n",
      "                                                                 \n",
      " hidden (Dense)              (None, 100)               78500     \n",
      "                                                                 \n",
      " dropout (Dropout)           (None, 100)               0         \n",
      "                                                                 \n",
      " output (Dense)              (None, 10)                1010      \n",
      "                                                                 \n",
      "=================================================================\n",
      "Total params: 79510 (310.59 KB)\n",
      "Trainable params: 79510 (310.59 KB)\n",
      "Non-trainable params: 0 (0.00 Byte)\n",
      "_________________________________________________________________\n"
     ]
    }
   ],
   "source": [
    "model4.summary()"
   ]
  },
  {
   "cell_type": "code",
   "execution_count": 36,
   "id": "9abf7a64",
   "metadata": {},
   "outputs": [],
   "source": [
    "# 모델 설정, 최적화는 adam클래스만 사용할 것\n",
    "model4.compile(loss='sparse_categorical_crossentropy', metrics='accuracy', optimizer='adam')"
   ]
  },
  {
   "cell_type": "code",
   "execution_count": 37,
   "id": "dcd6d6e6",
   "metadata": {},
   "outputs": [
    {
     "name": "stdout",
     "output_type": "stream",
     "text": [
      "Epoch 1/20\n",
      "1500/1500 [==============================] - 3s 1ms/step - loss: 0.5871 - accuracy: 0.7926\n",
      "Epoch 2/20\n",
      "1500/1500 [==============================] - 2s 1ms/step - loss: 0.4404 - accuracy: 0.8427\n",
      "Epoch 3/20\n",
      "1500/1500 [==============================] - 2s 1ms/step - loss: 0.4052 - accuracy: 0.8532\n",
      "Epoch 4/20\n",
      "1500/1500 [==============================] - 2s 1ms/step - loss: 0.3807 - accuracy: 0.8609\n",
      "Epoch 5/20\n",
      "1500/1500 [==============================] - 2s 1ms/step - loss: 0.3647 - accuracy: 0.8682\n",
      "Epoch 6/20\n",
      "1500/1500 [==============================] - 2s 1ms/step - loss: 0.3517 - accuracy: 0.8712\n",
      "Epoch 7/20\n",
      "1500/1500 [==============================] - 2s 1ms/step - loss: 0.3406 - accuracy: 0.8738\n",
      "Epoch 8/20\n",
      "1500/1500 [==============================] - 2s 1ms/step - loss: 0.3345 - accuracy: 0.8769\n",
      "Epoch 9/20\n",
      "1500/1500 [==============================] - 2s 1ms/step - loss: 0.3243 - accuracy: 0.8794\n",
      "Epoch 10/20\n",
      "1500/1500 [==============================] - 2s 1ms/step - loss: 0.3159 - accuracy: 0.8828\n",
      "Epoch 11/20\n",
      "1500/1500 [==============================] - 2s 1ms/step - loss: 0.3125 - accuracy: 0.8834\n",
      "Epoch 12/20\n",
      "1500/1500 [==============================] - 2s 1ms/step - loss: 0.3065 - accuracy: 0.8861\n",
      "Epoch 13/20\n",
      "1500/1500 [==============================] - 2s 1ms/step - loss: 0.3020 - accuracy: 0.8872\n",
      "Epoch 14/20\n",
      "1500/1500 [==============================] - 2s 1ms/step - loss: 0.2949 - accuracy: 0.8885\n",
      "Epoch 15/20\n",
      "1500/1500 [==============================] - 2s 1ms/step - loss: 0.2918 - accuracy: 0.8903\n",
      "Epoch 16/20\n",
      "1500/1500 [==============================] - 2s 1ms/step - loss: 0.2876 - accuracy: 0.8922\n",
      "Epoch 17/20\n",
      "1500/1500 [==============================] - 2s 1ms/step - loss: 0.2835 - accuracy: 0.8953\n",
      "Epoch 18/20\n",
      "1500/1500 [==============================] - 2s 1ms/step - loss: 0.2814 - accuracy: 0.8948\n",
      "Epoch 19/20\n",
      "1500/1500 [==============================] - 2s 1ms/step - loss: 0.2770 - accuracy: 0.8968\n",
      "Epoch 20/20\n",
      "1500/1500 [==============================] - 2s 1ms/step - loss: 0.2704 - accuracy: 0.8981\n"
     ]
    },
    {
     "data": {
      "text/plain": [
       "<keras.src.callbacks.History at 0x22170755d90>"
      ]
     },
     "execution_count": 37,
     "metadata": {},
     "output_type": "execute_result"
    }
   ],
   "source": [
    "# 모델 훈련. 모델훈련은 정보를 저장하기 때문에 다시 수행하면 이전 정보를 담고 시작\n",
    "model4.fit(train_scaled, train_target, epochs=20)"
   ]
  },
  {
   "cell_type": "code",
   "execution_count": 38,
   "id": "4a088355",
   "metadata": {},
   "outputs": [
    {
     "name": "stdout",
     "output_type": "stream",
     "text": [
      "375/375 [==============================] - 0s 963us/step - loss: 0.3250 - accuracy: 0.8860\n"
     ]
    },
    {
     "data": {
      "text/plain": [
       "[0.3250153660774231, 0.8859999775886536]"
      ]
     },
     "execution_count": 38,
     "metadata": {},
     "output_type": "execute_result"
    }
   ],
   "source": [
    "model4.evaluate(val_scaled, val_target)\n",
    "# 훈련 89%, 검증 88% - 1차이(훈련과 검증사이에 차이가 거의 없음)"
   ]
  },
  {
   "cell_type": "markdown",
   "id": "af369f1d",
   "metadata": {},
   "source": [
    "- 드롭아웃하면 정확도가 떨어짐 > 훈련과 검증(테스트) 사이에 정확도 차이가 줄어듦\n",
    "- `과대적합`(훈련세트 훈련에 너무 치중하여서 정확도가 너무 높은 것) 방지"
   ]
  },
  {
   "cell_type": "markdown",
   "id": "7e4b76d2",
   "metadata": {},
   "source": [
    "#### 모델의 저장과 복원\n",
    "- 훈련시간이 딥러닝에 크게 좌우됨. 저장이 없으면 다시 훈련시키고 시간을 소요해야 됨\n",
    "- 파일로 저장 후 모델에 대한 구조와 파라미터만 저장하는 두가지 방법이 존재"
   ]
  },
  {
   "cell_type": "code",
   "execution_count": 39,
   "id": "f30c7ebb",
   "metadata": {},
   "outputs": [],
   "source": [
    "# 모델4 저장 - 파라미터만 저장\n",
    "model4.save_weights('./model4-weight.h5')"
   ]
  },
  {
   "cell_type": "code",
   "execution_count": 40,
   "id": "eb9a4726",
   "metadata": {},
   "outputs": [
    {
     "name": "stderr",
     "output_type": "stream",
     "text": [
      "c:\\Source\\iot-dataanalysis-2025\\mlvenv\\Lib\\site-packages\\keras\\src\\engine\\training.py:3103: UserWarning: You are saving your model as an HDF5 file via `model.save()`. This file format is considered legacy. We recommend using instead the native Keras format, e.g. `model.save('my_model.keras')`.\n",
      "  saving_api.save_model(\n"
     ]
    }
   ],
   "source": [
    "# 모델4 저장 - 전체(모델 구조와 파라미터) 저장\n",
    "model4.save('./model4-whole.h5')"
   ]
  },
  {
   "cell_type": "markdown",
   "id": "a2d20d3f",
   "metadata": {},
   "source": [
    "#### 모델사용\n",
    "\n",
    "- 파라미터만 저장한 파일을 사용하려면 먼저 모델을 생성해야함"
   ]
  },
  {
   "cell_type": "code",
   "execution_count": 41,
   "id": "559106ee",
   "metadata": {},
   "outputs": [],
   "source": [
    "model5 = keras.Sequential([\n",
    "    keras.layers.Flatten(input_shape=(28, 28), name='flatten5'),\n",
    "    keras.layers.Dense(100, activation='relu', name='hidden5'),\n",
    "    keras.layers.Dropout(0.3, name='dropout5'), \n",
    "    keras.layers.Dense(10, activation='softmax', name='output5')\n",
    "], name='Fashion_MNIST_RELU5')"
   ]
  },
  {
   "cell_type": "code",
   "execution_count": 42,
   "id": "c5516970",
   "metadata": {},
   "outputs": [],
   "source": [
    "model5.load_weights('./model4-weight.h5')"
   ]
  },
  {
   "cell_type": "code",
   "execution_count": 43,
   "id": "26c06009",
   "metadata": {},
   "outputs": [
    {
     "name": "stdout",
     "output_type": "stream",
     "text": [
      "Model: \"Fashion_MNIST_RELU5\"\n",
      "_________________________________________________________________\n",
      " Layer (type)                Output Shape              Param #   \n",
      "=================================================================\n",
      " flatten5 (Flatten)          (None, 784)               0         \n",
      "                                                                 \n",
      " hidden5 (Dense)             (None, 100)               78500     \n",
      "                                                                 \n",
      " dropout5 (Dropout)          (None, 100)               0         \n",
      "                                                                 \n",
      " output5 (Dense)             (None, 10)                1010      \n",
      "                                                                 \n",
      "=================================================================\n",
      "Total params: 79510 (310.59 KB)\n",
      "Trainable params: 79510 (310.59 KB)\n",
      "Non-trainable params: 0 (0.00 Byte)\n",
      "_________________________________________________________________\n"
     ]
    }
   ],
   "source": [
    "model5.summary()"
   ]
  },
  {
   "cell_type": "code",
   "execution_count": 44,
   "id": "d608d88d",
   "metadata": {},
   "outputs": [
    {
     "name": "stdout",
     "output_type": "stream",
     "text": [
      "313/313 [==============================] - 0s 926us/step\n"
     ]
    }
   ],
   "source": [
    "pred_result = model5.predict(test_scaled)"
   ]
  },
  {
   "cell_type": "markdown",
   "id": "47a83a3f",
   "metadata": {},
   "source": [
    "- 모델까지 전부 생성해주는 방법"
   ]
  },
  {
   "cell_type": "code",
   "execution_count": 45,
   "id": "d865d0bc",
   "metadata": {},
   "outputs": [],
   "source": [
    "model6 = keras.models.load_model('./model4-whole.h5')"
   ]
  },
  {
   "cell_type": "code",
   "execution_count": 46,
   "id": "ec9ce770",
   "metadata": {},
   "outputs": [
    {
     "name": "stdout",
     "output_type": "stream",
     "text": [
      "Model: \"Fashion_MNIST_RELU\"\n",
      "_________________________________________________________________\n",
      " Layer (type)                Output Shape              Param #   \n",
      "=================================================================\n",
      " flatten (Flatten)           (None, 784)               0         \n",
      "                                                                 \n",
      " hidden (Dense)              (None, 100)               78500     \n",
      "                                                                 \n",
      " dropout (Dropout)           (None, 100)               0         \n",
      "                                                                 \n",
      " output (Dense)              (None, 10)                1010      \n",
      "                                                                 \n",
      "=================================================================\n",
      "Total params: 79510 (310.59 KB)\n",
      "Trainable params: 79510 (310.59 KB)\n",
      "Non-trainable params: 0 (0.00 Byte)\n",
      "_________________________________________________________________\n"
     ]
    }
   ],
   "source": [
    "model6.summary()"
   ]
  },
  {
   "cell_type": "code",
   "execution_count": 47,
   "id": "0da14499",
   "metadata": {},
   "outputs": [
    {
     "name": "stdout",
     "output_type": "stream",
     "text": [
      "313/313 [==============================] - 0s 1ms/step - loss: 0.3485 - accuracy: 0.8812\n"
     ]
    },
    {
     "data": {
      "text/plain": [
       "[0.34849920868873596, 0.8812000155448914]"
      ]
     },
     "execution_count": 47,
     "metadata": {},
     "output_type": "execute_result"
    }
   ],
   "source": [
    "model6.evaluate(test_scaled, test_target)"
   ]
  },
  {
   "cell_type": "markdown",
   "id": "9263b3e1",
   "metadata": {},
   "source": [
    "#### 콜백\n",
    "- 실행도중 다른 일을 할 수 있도록 해주는 기능\n",
    "- `조기종료`를 위해서 사용"
   ]
  },
  {
   "cell_type": "code",
   "execution_count": 48,
   "id": "4cb51dcb",
   "metadata": {},
   "outputs": [],
   "source": [
    "model7 = keras.Sequential([\n",
    "    keras.layers.Flatten(input_shape=(28, 28), name='flatten'),\n",
    "    keras.layers.Dense(100, activation='relu', name='hidden'),\n",
    "    keras.layers.Dropout(0.3, name='dropout'), \n",
    "    keras.layers.Dense(10, activation='softmax', name='output')\n",
    "], name='Fashion_MNIST_RELU7')"
   ]
  },
  {
   "cell_type": "code",
   "execution_count": 49,
   "id": "0cdd6ed4",
   "metadata": {},
   "outputs": [],
   "source": [
    "model7.compile(loss='sparse_categorical_crossentropy', metrics='accuracy', optimizer='adam')"
   ]
  },
  {
   "cell_type": "code",
   "execution_count": 50,
   "id": "d7c6e53c",
   "metadata": {},
   "outputs": [],
   "source": [
    "# 에포크마다 모델 저장기능 콜백\n",
    "# 최고 상태면 저장\n",
    "checkpoint_cb = keras.callbacks.ModelCheckpoint('./best-model.h5', save_best_only=True) \n",
    "# 조기종료 콜백\n",
    "## 두번이상 훈련값이 동일하면 조기종료, 이전 최고상태로 복구\n",
    "early_stop_cb = keras.callbacks.EarlyStopping(patience=2, restore_best_weights=True)"
   ]
  },
  {
   "cell_type": "code",
   "execution_count": 51,
   "id": "223d8bab",
   "metadata": {},
   "outputs": [
    {
     "name": "stdout",
     "output_type": "stream",
     "text": [
      "Epoch 1/20\n",
      "1500/1500 [==============================] - 3s 2ms/step - loss: 0.5909 - accuracy: 0.7930 - val_loss: 0.4310 - val_accuracy: 0.8394\n",
      "Epoch 2/20\n",
      "1500/1500 [==============================] - 3s 2ms/step - loss: 0.4401 - accuracy: 0.8417 - val_loss: 0.3941 - val_accuracy: 0.8533\n",
      "Epoch 3/20\n",
      "1500/1500 [==============================] - 2s 2ms/step - loss: 0.3995 - accuracy: 0.8555 - val_loss: 0.3708 - val_accuracy: 0.8628\n",
      "Epoch 4/20\n",
      "1500/1500 [==============================] - 3s 2ms/step - loss: 0.3782 - accuracy: 0.8625 - val_loss: 0.3542 - val_accuracy: 0.8679\n",
      "Epoch 5/20\n",
      "1500/1500 [==============================] - 2s 2ms/step - loss: 0.3646 - accuracy: 0.8663 - val_loss: 0.3590 - val_accuracy: 0.8666\n",
      "Epoch 6/20\n",
      "1500/1500 [==============================] - 2s 2ms/step - loss: 0.3530 - accuracy: 0.8707 - val_loss: 0.3416 - val_accuracy: 0.8749\n",
      "Epoch 7/20\n",
      "1500/1500 [==============================] - 2s 2ms/step - loss: 0.3447 - accuracy: 0.8718 - val_loss: 0.3478 - val_accuracy: 0.8744\n",
      "Epoch 8/20\n",
      "1500/1500 [==============================] - 3s 2ms/step - loss: 0.3337 - accuracy: 0.8769 - val_loss: 0.3292 - val_accuracy: 0.8796\n",
      "Epoch 9/20\n",
      "1500/1500 [==============================] - 2s 2ms/step - loss: 0.3280 - accuracy: 0.8781 - val_loss: 0.3331 - val_accuracy: 0.8803\n",
      "Epoch 10/20\n",
      "1500/1500 [==============================] - 2s 2ms/step - loss: 0.3186 - accuracy: 0.8816 - val_loss: 0.3325 - val_accuracy: 0.8816\n"
     ]
    },
    {
     "data": {
      "text/plain": [
       "<keras.src.callbacks.History at 0x22174294990>"
      ]
     },
     "execution_count": 51,
     "metadata": {},
     "output_type": "execute_result"
    }
   ],
   "source": [
    "# 모델 훈련. 모델훈련은 정보를 저장하기 때문에 다시 수행하면 이전 정보를 담고 시작\n",
    "model7.fit(train_scaled, train_target, epochs=20, validation_data=(val_scaled, val_target),\n",
    "           callbacks=[checkpoint_cb, early_stop_cb])"
   ]
  },
  {
   "cell_type": "code",
   "execution_count": 52,
   "id": "e9166f8b",
   "metadata": {},
   "outputs": [
    {
     "name": "stdout",
     "output_type": "stream",
     "text": [
      "375/375 [==============================] - 0s 979us/step - loss: 0.3292 - accuracy: 0.8796\n"
     ]
    },
    {
     "data": {
      "text/plain": [
       "[0.3291707932949066, 0.8795833587646484]"
      ]
     },
     "execution_count": 52,
     "metadata": {},
     "output_type": "execute_result"
    }
   ],
   "source": [
    "model7.evaluate(val_scaled, val_target)"
   ]
  },
  {
   "cell_type": "code",
   "execution_count": 53,
   "id": "ef85cab9",
   "metadata": {},
   "outputs": [
    {
     "name": "stdout",
     "output_type": "stream",
     "text": [
      "313/313 [==============================] - 0s 1ms/step - loss: 0.3611 - accuracy: 0.8704\n"
     ]
    },
    {
     "data": {
      "text/plain": [
       "[0.36114925146102905, 0.8704000115394592]"
      ]
     },
     "execution_count": 53,
     "metadata": {},
     "output_type": "execute_result"
    }
   ],
   "source": [
    "model7.evaluate(test_scaled, test_target)"
   ]
  },
  {
   "cell_type": "code",
   "execution_count": 54,
   "id": "f341f19d",
   "metadata": {},
   "outputs": [
    {
     "data": {
      "text/plain": [
       "9"
      ]
     },
     "execution_count": 54,
     "metadata": {},
     "output_type": "execute_result"
    }
   ],
   "source": [
    "early_stop_cb.stopped_epoch"
   ]
  },
  {
   "cell_type": "markdown",
   "id": "1ce21ccc",
   "metadata": {},
   "source": [
    "- 20번 중 9번 반복에서 조기종료"
   ]
  },
  {
   "cell_type": "markdown",
   "id": "fe4287ca",
   "metadata": {},
   "source": [
    "#### 결론\n",
    "- `심층 신경망` : 2개 이상의 밀집층을 포함한 신경망 모델. 다층 인공신경망\n",
    "- `ReLU 함수` : Sigmoid 함수의 단점을 보완한 활성화 함수\n",
    "- `옵티마이저` : 신경망의 가중치(기울기)와 절편을 학습하기 위한 알고리즘 또는 방법. `Adam`, SGD(확률적 경사하강법), RMSprop...\n",
    "\n",
    "- `드롭아웃` : 밀집층의 뉴런을 임의로 꺼서 훈련을 덜 시키는 것. 과대적합 막기 위해서 수행\n",
    "- 모델 저장과 복원 : 이미 훈련된 데이터를 저장했다가 나중에 다시 쓰기 위해서 수행\n",
    "- `콜백` : 에포크마다 모델 저장 또는 조기종료를 위해서 훈련 도중에 다른 기능을 수행하는 것"
   ]
  }
 ],
 "metadata": {
  "kernelspec": {
   "display_name": "mlvenv",
   "language": "python",
   "name": "python3"
  },
  "language_info": {
   "codemirror_mode": {
    "name": "ipython",
    "version": 3
   },
   "file_extension": ".py",
   "mimetype": "text/x-python",
   "name": "python",
   "nbconvert_exporter": "python",
   "pygments_lexer": "ipython3",
   "version": "3.11.9"
  }
 },
 "nbformat": 4,
 "nbformat_minor": 5
}
